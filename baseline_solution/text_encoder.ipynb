{
 "cells": [
  {
   "cell_type": "code",
   "execution_count": 1,
   "id": "cc8a87e3",
   "metadata": {},
   "outputs": [
    {
     "name": "stderr",
     "output_type": "stream",
     "text": [
      "/home/gleb_galagan/tbank_recsys/base_venv/lib/python3.10/site-packages/tqdm/auto.py:21: TqdmWarning: IProgress not found. Please update jupyter and ipywidgets. See https://ipywidgets.readthedocs.io/en/stable/user_install.html\n",
      "  from .autonotebook import tqdm as notebook_tqdm\n"
     ]
    }
   ],
   "source": [
    "from sentence_transformers import SentenceTransformer\n",
    "\n",
    "bge_model = SentenceTransformer(\"BAAI/bge-m3\")\n",
    "\n",
    "sentences = [\n",
    "    \"That is a happy person\",\n",
    "    \"That is a happy dog\",\n",
    "    \"That is a very happy person\",\n",
    "    \"Today is a sunny day\"\n",
    "]\n",
    "# embeddings = model.encode(sentences)\n",
    "\n",
    "# similarities = model.similarity(embeddings, embeddings)\n",
    "# print(similarities.shape)\n",
    "# # [4, 4]"
   ]
  },
  {
   "cell_type": "code",
   "execution_count": 2,
   "id": "4b1c71f5",
   "metadata": {},
   "outputs": [],
   "source": [
    "import pandas as pd\n",
    "import polars as pl\n",
    "import numpy as np\n",
    "import typing as t\n",
    "import matplotlib.pyplot as plt\n",
    "from abc import ABC, abstractmethod\n",
    "from tqdm.notebook import tqdm\n",
    "from IPython.display import HTML\n",
    "from dataclasses import dataclass\n",
    "from sklearn.feature_extraction.text import CountVectorizer\n",
    "from sklearn.preprocessing import normalize\n"
   ]
  },
  {
   "cell_type": "code",
   "execution_count": 4,
   "id": "c864ff23",
   "metadata": {},
   "outputs": [
    {
     "name": "stdout",
     "output_type": "stream",
     "text": [
      "Books:\n",
      "(34322, 8)\n"
     ]
    },
    {
     "data": {
      "text/html": [
       "<div><style>\n",
       ".dataframe > thead > tr,\n",
       ".dataframe > tbody > tr {\n",
       "  text-align: right;\n",
       "  white-space: pre-wrap;\n",
       "}\n",
       "</style>\n",
       "<small>shape: (5, 8)</small><table border=\"1\" class=\"dataframe\"><thead><tr><th>item_id</th><th>series</th><th>tags</th><th>title</th><th>description</th><th>url</th><th>image_url</th><th>authors</th></tr><tr><td>i64</td><td>list[str]</td><td>list[str]</td><td>str</td><td>str</td><td>str</td><td>str</td><td>list[struct[2]]</td></tr></thead><tbody><tr><td>0</td><td>[null]</td><td>[&quot;e-book&quot;, &quot;young-adult&quot;, … &quot;y-a&quot;]</td><td>&quot;Hallie Hath No Fury . . .&quot;</td><td>&quot;There are two sides to every s…</td><td>&quot;https://www.goodreads.com/book…</td><td>&quot;https://images.gr-assets.com/b…</td><td>[{&quot;1879494&quot;,&quot;&quot;}]</td></tr><tr><td>1</td><td>[&quot;149079&quot;]</td><td>[&quot;primary&quot;, &quot;melissa-j--morgan&quot;, … &quot;fiction&quot;]</td><td>&quot;Hide and Shriek: Super Special…</td><td>&quot;The girls go on an overnight a…</td><td>&quot;https://www.goodreads.com/book…</td><td>&quot;https://s.gr-assets.com/assets…</td><td>[{&quot;21740&quot;,&quot;&quot;}]</td></tr><tr><td>2</td><td>[null]</td><td>[&quot;friendship&quot;, &quot;middle-reader&quot;, … &quot;my-library&quot;]</td><td>&quot;Dear Mom, You&#x27;re Ruining My Li…</td><td>&quot;Samantha Slayton worries about…</td><td>&quot;https://www.goodreads.com/book…</td><td>&quot;https://s.gr-assets.com/assets…</td><td>[{&quot;18946&quot;,&quot;&quot;}]</td></tr><tr><td>3</td><td>[&quot;151088&quot;]</td><td>[&quot;summer-2017&quot;, &quot;bullying&quot;, … &quot;re-read&quot;]</td><td>&quot;Bratfest at Tiffany&#x27;s (Clique …</td><td>&quot;Massie Block: The Briarwood bo…</td><td>&quot;https://www.goodreads.com/book…</td><td>&quot;https://images.gr-assets.com/b…</td><td>[{&quot;4605&quot;,&quot;&quot;}]</td></tr><tr><td>4</td><td>[&quot;812067&quot;]</td><td>[&quot;rosemary-vernon&quot;, &quot;young-adult&quot;, … &quot;to-read&quot;]</td><td>&quot;Questions of Love (Sweet Dream…</td><td>&quot;When Sammi Edwards is chosen t…</td><td>&quot;https://www.goodreads.com/book…</td><td>&quot;https://images.gr-assets.com/b…</td><td>[{&quot;792676&quot;,&quot;&quot;}]</td></tr></tbody></table></div>"
      ],
      "text/plain": [
       "shape: (5, 8)\n",
       "┌─────────┬────────────┬────────────┬────────────┬────────────┬────────────┬───────────┬───────────┐\n",
       "│ item_id ┆ series     ┆ tags       ┆ title      ┆ descriptio ┆ url        ┆ image_url ┆ authors   │\n",
       "│ ---     ┆ ---        ┆ ---        ┆ ---        ┆ n          ┆ ---        ┆ ---       ┆ ---       │\n",
       "│ i64     ┆ list[str]  ┆ list[str]  ┆ str        ┆ ---        ┆ str        ┆ str       ┆ list[stru │\n",
       "│         ┆            ┆            ┆            ┆ str        ┆            ┆           ┆ ct[2]]    │\n",
       "╞═════════╪════════════╪════════════╪════════════╪════════════╪════════════╪═══════════╪═══════════╡\n",
       "│ 0       ┆ [null]     ┆ [\"e-book\", ┆ Hallie     ┆ There are  ┆ https://ww ┆ https://i ┆ [{\"187949 │\n",
       "│         ┆            ┆ \"young-adu ┆ Hath No    ┆ two sides  ┆ w.goodread ┆ mages.gr- ┆ 4\",\"\"}]   │\n",
       "│         ┆            ┆ lt\", … \"y… ┆ Fury . . . ┆ to every   ┆ s.com/book ┆ assets.co ┆           │\n",
       "│         ┆            ┆            ┆            ┆ s…         ┆ …          ┆ m/b…      ┆           │\n",
       "│ 1       ┆ [\"149079\"] ┆ [\"primary\" ┆ Hide and   ┆ The girls  ┆ https://ww ┆ https://s ┆ [{\"21740\" │\n",
       "│         ┆            ┆ , \"melissa ┆ Shriek:    ┆ go on an   ┆ w.goodread ┆ .gr-asset ┆ ,\"\"}]     │\n",
       "│         ┆            ┆ -j--morgan ┆ Super      ┆ overnight  ┆ s.com/book ┆ s.com/ass ┆           │\n",
       "│         ┆            ┆ …          ┆ Special…   ┆ a…         ┆ …          ┆ ets…      ┆           │\n",
       "│ 2       ┆ [null]     ┆ [\"friendsh ┆ Dear Mom,  ┆ Samantha   ┆ https://ww ┆ https://s ┆ [{\"18946\" │\n",
       "│         ┆            ┆ ip\", \"midd ┆ You're     ┆ Slayton    ┆ w.goodread ┆ .gr-asset ┆ ,\"\"}]     │\n",
       "│         ┆            ┆ le-reader\" ┆ Ruining My ┆ worries    ┆ s.com/book ┆ s.com/ass ┆           │\n",
       "│         ┆            ┆ …          ┆ Li…        ┆ about…     ┆ …          ┆ ets…      ┆           │\n",
       "│ 3       ┆ [\"151088\"] ┆ [\"summer-2 ┆ Bratfest   ┆ Massie     ┆ https://ww ┆ https://i ┆ [{\"4605\", │\n",
       "│         ┆            ┆ 017\", \"bul ┆ at         ┆ Block: The ┆ w.goodread ┆ mages.gr- ┆ \"\"}]      │\n",
       "│         ┆            ┆ lying\", …  ┆ Tiffany's  ┆ Briarwood  ┆ s.com/book ┆ assets.co ┆           │\n",
       "│         ┆            ┆ …          ┆ (Clique …  ┆ bo…        ┆ …          ┆ m/b…      ┆           │\n",
       "│ 4       ┆ [\"812067\"] ┆ [\"rosemary ┆ Questions  ┆ When Sammi ┆ https://ww ┆ https://i ┆ [{\"792676 │\n",
       "│         ┆            ┆ -vernon\",  ┆ of Love    ┆ Edwards is ┆ w.goodread ┆ mages.gr- ┆ \",\"\"}]    │\n",
       "│         ┆            ┆ \"young-adu ┆ (Sweet     ┆ chosen t…  ┆ s.com/book ┆ assets.co ┆           │\n",
       "│         ┆            ┆ …          ┆ Dream…     ┆            ┆ …          ┆ m/b…      ┆           │\n",
       "└─────────┴────────────┴────────────┴────────────┴────────────┴────────────┴───────────┴───────────┘"
      ]
     },
     "metadata": {},
     "output_type": "display_data"
    }
   ],
   "source": [
    "data_folder = \"/home/gleb_galagan/tbank_recsys/sirius_recsys/sirius-2025-recsys/data/\"\n",
    "books = pl.read_parquet(data_folder + \"books.pq\")\n",
    "print(\"Books:\")\n",
    "print(books.shape)\n",
    "display(books.head(5))"
   ]
  },
  {
   "cell_type": "code",
   "execution_count": 6,
   "id": "665ae39b",
   "metadata": {},
   "outputs": [
    {
     "data": {
      "text/html": [
       "<div><style>\n",
       ".dataframe > thead > tr,\n",
       ".dataframe > tbody > tr {\n",
       "  text-align: right;\n",
       "  white-space: pre-wrap;\n",
       "}\n",
       "</style>\n",
       "<small>shape: (34_322, 9)</small><table border=\"1\" class=\"dataframe\"><thead><tr><th>item_id</th><th>series</th><th>tags</th><th>title</th><th>description</th><th>url</th><th>image_url</th><th>authors</th><th>title_embeddings</th></tr><tr><td>i64</td><td>list[str]</td><td>list[str]</td><td>str</td><td>str</td><td>str</td><td>str</td><td>list[struct[2]]</td><td>array[f32, 1024]</td></tr></thead><tbody><tr><td>0</td><td>[null]</td><td>[&quot;e-book&quot;, &quot;young-adult&quot;, … &quot;y-a&quot;]</td><td>&quot;Hallie Hath No Fury . . .&quot;</td><td>&quot;There are two sides to every s…</td><td>&quot;https://www.goodreads.com/book…</td><td>&quot;https://images.gr-assets.com/b…</td><td>[{&quot;1879494&quot;,&quot;&quot;}]</td><td>[-0.014391, -0.001098, … 0.043958]</td></tr><tr><td>1</td><td>[&quot;149079&quot;]</td><td>[&quot;primary&quot;, &quot;melissa-j--morgan&quot;, … &quot;fiction&quot;]</td><td>&quot;Hide and Shriek: Super Special…</td><td>&quot;The girls go on an overnight a…</td><td>&quot;https://www.goodreads.com/book…</td><td>&quot;https://s.gr-assets.com/assets…</td><td>[{&quot;21740&quot;,&quot;&quot;}]</td><td>[-0.017193, 0.014635, … 0.068515]</td></tr><tr><td>2</td><td>[null]</td><td>[&quot;friendship&quot;, &quot;middle-reader&quot;, … &quot;my-library&quot;]</td><td>&quot;Dear Mom, You&#x27;re Ruining My Li…</td><td>&quot;Samantha Slayton worries about…</td><td>&quot;https://www.goodreads.com/book…</td><td>&quot;https://s.gr-assets.com/assets…</td><td>[{&quot;18946&quot;,&quot;&quot;}]</td><td>[-0.015779, 0.030699, … 0.000723]</td></tr><tr><td>3</td><td>[&quot;151088&quot;]</td><td>[&quot;summer-2017&quot;, &quot;bullying&quot;, … &quot;re-read&quot;]</td><td>&quot;Bratfest at Tiffany&#x27;s (Clique …</td><td>&quot;Massie Block: The Briarwood bo…</td><td>&quot;https://www.goodreads.com/book…</td><td>&quot;https://images.gr-assets.com/b…</td><td>[{&quot;4605&quot;,&quot;&quot;}]</td><td>[-0.034687, 0.014636, … 0.054508]</td></tr><tr><td>4</td><td>[&quot;812067&quot;]</td><td>[&quot;rosemary-vernon&quot;, &quot;young-adult&quot;, … &quot;to-read&quot;]</td><td>&quot;Questions of Love (Sweet Dream…</td><td>&quot;When Sammi Edwards is chosen t…</td><td>&quot;https://www.goodreads.com/book…</td><td>&quot;https://images.gr-assets.com/b…</td><td>[{&quot;792676&quot;,&quot;&quot;}]</td><td>[-0.027176, 0.023453, … 0.020856]</td></tr><tr><td>&hellip;</td><td>&hellip;</td><td>&hellip;</td><td>&hellip;</td><td>&hellip;</td><td>&hellip;</td><td>&hellip;</td><td>&hellip;</td><td>&hellip;</td></tr><tr><td>34317</td><td>[&quot;849421&quot;]</td><td>[&quot;will-never-read&quot;, &quot;action&quot;, … &quot;fiction&quot;]</td><td>&quot;The Cruelty (The Cruelty, #1)&quot;</td><td>&quot;When her diplomat father is ki…</td><td>&quot;https://www.goodreads.com/book…</td><td>&quot;https://images.gr-assets.com/b…</td><td>[{&quot;14713542&quot;,&quot;&quot;}]</td><td>[-0.025789, 0.045962, … -0.005911]</td></tr><tr><td>34318</td><td>[&quot;795937&quot;]</td><td>[&quot;haven-t-bothered-to-finish&quot;, &quot;library&quot;, … &quot;favorites&quot;]</td><td>&quot;Does Snogging Count as Exercis…</td><td>&quot;As one of the only girls in Ye…</td><td>&quot;https://www.goodreads.com/book…</td><td>&quot;https://s.gr-assets.com/assets…</td><td>[{&quot;753459&quot;,&quot;&quot;}]</td><td>[-0.032484, -0.004517, … 0.019637]</td></tr><tr><td>34319</td><td>[&quot;921523&quot;]</td><td>[&quot;young-adult&quot;, &quot;200-299-pgs&quot;, … &quot;i-don-t-know&quot;]</td><td>&quot;Discovery (The Gifted, #1)&quot;</td><td>&quot;All twenty-three year old Kate…</td><td>&quot;https://www.goodreads.com/book…</td><td>&quot;https://images.gr-assets.com/b…</td><td>[{&quot;14590184&quot;,&quot;&quot;}]</td><td>[0.007021, 0.001272, … 0.027752]</td></tr><tr><td>34320</td><td>[&quot;251973&quot;]</td><td>[&quot;2x-legend-myth-power&quot;, &quot;fantasy-teen&quot;, … &quot;trt-posted-reviews&quot;]</td><td>&quot;Cybermage (Worldweavers, Book …</td><td>&quot;&quot;</td><td>&quot;https://www.goodreads.com/book…</td><td>&quot;https://s.gr-assets.com/assets…</td><td>[{&quot;36343&quot;,&quot;&quot;}]</td><td>[-0.014694, 0.039774, … 0.023292]</td></tr><tr><td>34321</td><td>[null]</td><td>[&quot;library&quot;, &quot;arizona&quot;, … &quot;young-adult&quot;]</td><td>&quot;Red Glass&quot;</td><td>&quot;&quot;</td><td>&quot;https://www.goodreads.com/book…</td><td>&quot;https://images.gr-assets.com/b…</td><td>[{&quot;202936&quot;,&quot;&quot;}]</td><td>[-0.064094, 0.029782, … 0.048183]</td></tr></tbody></table></div>"
      ],
      "text/plain": [
       "shape: (34_322, 9)\n",
       "┌─────────┬────────────┬───────────┬───────────┬───┬───────────┬───────────┬───────────┬───────────┐\n",
       "│ item_id ┆ series     ┆ tags      ┆ title     ┆ … ┆ url       ┆ image_url ┆ authors   ┆ title_emb │\n",
       "│ ---     ┆ ---        ┆ ---       ┆ ---       ┆   ┆ ---       ┆ ---       ┆ ---       ┆ eddings   │\n",
       "│ i64     ┆ list[str]  ┆ list[str] ┆ str       ┆   ┆ str       ┆ str       ┆ list[stru ┆ ---       │\n",
       "│         ┆            ┆           ┆           ┆   ┆           ┆           ┆ ct[2]]    ┆ array[f32 │\n",
       "│         ┆            ┆           ┆           ┆   ┆           ┆           ┆           ┆ , 1024]   │\n",
       "╞═════════╪════════════╪═══════════╪═══════════╪═══╪═══════════╪═══════════╪═══════════╪═══════════╡\n",
       "│ 0       ┆ [null]     ┆ [\"e-book\" ┆ Hallie    ┆ … ┆ https://w ┆ https://i ┆ [{\"187949 ┆ [-0.01439 │\n",
       "│         ┆            ┆ , \"young- ┆ Hath No   ┆   ┆ ww.goodre ┆ mages.gr- ┆ 4\",\"\"}]   ┆ 1, -0.001 │\n",
       "│         ┆            ┆ adult\", … ┆ Fury . .  ┆   ┆ ads.com/b ┆ assets.co ┆           ┆ 098, …    │\n",
       "│         ┆            ┆ \"y…       ┆ .         ┆   ┆ ook…      ┆ m/b…      ┆           ┆ 0.043…    │\n",
       "│ 1       ┆ [\"149079\"] ┆ [\"primary ┆ Hide and  ┆ … ┆ https://w ┆ https://s ┆ [{\"21740\" ┆ [-0.01719 │\n",
       "│         ┆            ┆ \", \"melis ┆ Shriek:   ┆   ┆ ww.goodre ┆ .gr-asset ┆ ,\"\"}]     ┆ 3,        │\n",
       "│         ┆            ┆ sa-j--mor ┆ Super     ┆   ┆ ads.com/b ┆ s.com/ass ┆           ┆ 0.014635, │\n",
       "│         ┆            ┆ gan…      ┆ Special…  ┆   ┆ ook…      ┆ ets…      ┆           ┆ … 0.0685… │\n",
       "│ 2       ┆ [null]     ┆ [\"friends ┆ Dear Mom, ┆ … ┆ https://w ┆ https://s ┆ [{\"18946\" ┆ [-0.01577 │\n",
       "│         ┆            ┆ hip\", \"mi ┆ You're    ┆   ┆ ww.goodre ┆ .gr-asset ┆ ,\"\"}]     ┆ 9,        │\n",
       "│         ┆            ┆ ddle-read ┆ Ruining   ┆   ┆ ads.com/b ┆ s.com/ass ┆           ┆ 0.030699, │\n",
       "│         ┆            ┆ er\"…      ┆ My Li…    ┆   ┆ ook…      ┆ ets…      ┆           ┆ … 0.0007… │\n",
       "│ 3       ┆ [\"151088\"] ┆ [\"summer- ┆ Bratfest  ┆ … ┆ https://w ┆ https://i ┆ [{\"4605\", ┆ [-0.03468 │\n",
       "│         ┆            ┆ 2017\",    ┆ at        ┆   ┆ ww.goodre ┆ mages.gr- ┆ \"\"}]      ┆ 7,        │\n",
       "│         ┆            ┆ \"bullying ┆ Tiffany's ┆   ┆ ads.com/b ┆ assets.co ┆           ┆ 0.014636, │\n",
       "│         ┆            ┆ \", … …    ┆ (Clique … ┆   ┆ ook…      ┆ m/b…      ┆           ┆ … 0.0545… │\n",
       "│ 4       ┆ [\"812067\"] ┆ [\"rosemar ┆ Questions ┆ … ┆ https://w ┆ https://i ┆ [{\"792676 ┆ [-0.02717 │\n",
       "│         ┆            ┆ y-vernon\" ┆ of Love   ┆   ┆ ww.goodre ┆ mages.gr- ┆ \",\"\"}]    ┆ 6,        │\n",
       "│         ┆            ┆ , \"young- ┆ (Sweet    ┆   ┆ ads.com/b ┆ assets.co ┆           ┆ 0.023453, │\n",
       "│         ┆            ┆ adu…      ┆ Dream…    ┆   ┆ ook…      ┆ m/b…      ┆           ┆ … 0.0208… │\n",
       "│ …       ┆ …          ┆ …         ┆ …         ┆ … ┆ …         ┆ …         ┆ …         ┆ …         │\n",
       "│ 34317   ┆ [\"849421\"] ┆ [\"will-ne ┆ The       ┆ … ┆ https://w ┆ https://i ┆ [{\"147135 ┆ [-0.02578 │\n",
       "│         ┆            ┆ ver-read\" ┆ Cruelty   ┆   ┆ ww.goodre ┆ mages.gr- ┆ 42\",\"\"}]  ┆ 9,        │\n",
       "│         ┆            ┆ ,         ┆ (The      ┆   ┆ ads.com/b ┆ assets.co ┆           ┆ 0.045962, │\n",
       "│         ┆            ┆ \"action\", ┆ Cruelty,  ┆   ┆ ook…      ┆ m/b…      ┆           ┆ … -0.005… │\n",
       "│         ┆            ┆ …         ┆ #1)       ┆   ┆           ┆           ┆           ┆           │\n",
       "│ 34318   ┆ [\"795937\"] ┆ [\"haven-t ┆ Does      ┆ … ┆ https://w ┆ https://s ┆ [{\"753459 ┆ [-0.03248 │\n",
       "│         ┆            ┆ -bothered ┆ Snogging  ┆   ┆ ww.goodre ┆ .gr-asset ┆ \",\"\"}]    ┆ 4, -0.004 │\n",
       "│         ┆            ┆ -to-finis ┆ Count as  ┆   ┆ ads.com/b ┆ s.com/ass ┆           ┆ 517, …    │\n",
       "│         ┆            ┆ h\",…      ┆ Exercis…  ┆   ┆ ook…      ┆ ets…      ┆           ┆ 0.019…    │\n",
       "│ 34319   ┆ [\"921523\"] ┆ [\"young-a ┆ Discovery ┆ … ┆ https://w ┆ https://i ┆ [{\"145901 ┆ [0.007021 │\n",
       "│         ┆            ┆ dult\",    ┆ (The      ┆   ┆ ww.goodre ┆ mages.gr- ┆ 84\",\"\"}]  ┆ ,         │\n",
       "│         ┆            ┆ \"200-299- ┆ Gifted,   ┆   ┆ ads.com/b ┆ assets.co ┆           ┆ 0.001272, │\n",
       "│         ┆            ┆ pgs\",…    ┆ #1)       ┆   ┆ ook…      ┆ m/b…      ┆           ┆ …         │\n",
       "│         ┆            ┆           ┆           ┆   ┆           ┆           ┆           ┆ 0.02775…  │\n",
       "│ 34320   ┆ [\"251973\"] ┆ [\"2x-lege ┆ Cybermage ┆ … ┆ https://w ┆ https://s ┆ [{\"36343\" ┆ [-0.01469 │\n",
       "│         ┆            ┆ nd-myth-p ┆ (Worldwea ┆   ┆ ww.goodre ┆ .gr-asset ┆ ,\"\"}]     ┆ 4,        │\n",
       "│         ┆            ┆ ower\",    ┆ vers,     ┆   ┆ ads.com/b ┆ s.com/ass ┆           ┆ 0.039774, │\n",
       "│         ┆            ┆ \"fant…    ┆ Book …    ┆   ┆ ook…      ┆ ets…      ┆           ┆ … 0.0232… │\n",
       "│ 34321   ┆ [null]     ┆ [\"library ┆ Red Glass ┆ … ┆ https://w ┆ https://i ┆ [{\"202936 ┆ [-0.06409 │\n",
       "│         ┆            ┆ \", \"arizo ┆           ┆   ┆ ww.goodre ┆ mages.gr- ┆ \",\"\"}]    ┆ 4,        │\n",
       "│         ┆            ┆ na\", …    ┆           ┆   ┆ ads.com/b ┆ assets.co ┆           ┆ 0.029782, │\n",
       "│         ┆            ┆ \"youn…    ┆           ┆   ┆ ook…      ┆ m/b…      ┆           ┆ … 0.0481… │\n",
       "└─────────┴────────────┴───────────┴───────────┴───┴───────────┴───────────┴───────────┴───────────┘"
      ]
     },
     "execution_count": 6,
     "metadata": {},
     "output_type": "execute_result"
    }
   ],
   "source": [
    "# books_emb = books.with_columns(bge_model.encode(pl.col('title')).alias('title_embeddings'))\n",
    "# books_emb\n",
    "# Get all titles\n",
    "titles = books['title'].to_list()\n",
    "\n",
    "# Encode all at once (more efficient)\n",
    "embeddings = bge_model.encode(titles)\n",
    "\n",
    "# Create new dataframe with embeddings\n",
    "books_emb = books.with_columns(\n",
    "    pl.Series(\"title_embeddings\", list(embeddings))\n",
    ")\n",
    "books_emb"
   ]
  },
  {
   "cell_type": "code",
   "execution_count": 9,
   "id": "c802ac2f",
   "metadata": {},
   "outputs": [],
   "source": [
    "books_emb.write_parquet('books_title_emb.parquet')\n",
    "\n",
    "# To read it back later:\n",
    "# books_emb = pl.read_parquet('books_title_emb.parquet')"
   ]
  },
  {
   "cell_type": "code",
   "execution_count": 4,
   "id": "216e5b74",
   "metadata": {},
   "outputs": [
    {
     "name": "stdout",
     "output_type": "stream",
     "text": [
      "Books:\n",
      "(34322, 9)\n"
     ]
    },
    {
     "data": {
      "text/html": [
       "<div><style>\n",
       ".dataframe > thead > tr,\n",
       ".dataframe > tbody > tr {\n",
       "  text-align: right;\n",
       "  white-space: pre-wrap;\n",
       "}\n",
       "</style>\n",
       "<small>shape: (5, 9)</small><table border=\"1\" class=\"dataframe\"><thead><tr><th>item_id</th><th>series</th><th>tags</th><th>title</th><th>description</th><th>url</th><th>image_url</th><th>authors</th><th>title_embeddings</th></tr><tr><td>i64</td><td>list[str]</td><td>list[str]</td><td>str</td><td>str</td><td>str</td><td>str</td><td>list[struct[2]]</td><td>array[f32, 1024]</td></tr></thead><tbody><tr><td>0</td><td>[null]</td><td>[&quot;e-book&quot;, &quot;young-adult&quot;, … &quot;y-a&quot;]</td><td>&quot;Hallie Hath No Fury . . .&quot;</td><td>&quot;There are two sides to every s…</td><td>&quot;https://www.goodreads.com/book…</td><td>&quot;https://images.gr-assets.com/b…</td><td>[{&quot;1879494&quot;,&quot;&quot;}]</td><td>[-0.014391, -0.001098, … 0.043958]</td></tr><tr><td>1</td><td>[&quot;149079&quot;]</td><td>[&quot;primary&quot;, &quot;melissa-j--morgan&quot;, … &quot;fiction&quot;]</td><td>&quot;Hide and Shriek: Super Special…</td><td>&quot;The girls go on an overnight a…</td><td>&quot;https://www.goodreads.com/book…</td><td>&quot;https://s.gr-assets.com/assets…</td><td>[{&quot;21740&quot;,&quot;&quot;}]</td><td>[-0.017193, 0.014635, … 0.068515]</td></tr><tr><td>2</td><td>[null]</td><td>[&quot;friendship&quot;, &quot;middle-reader&quot;, … &quot;my-library&quot;]</td><td>&quot;Dear Mom, You&#x27;re Ruining My Li…</td><td>&quot;Samantha Slayton worries about…</td><td>&quot;https://www.goodreads.com/book…</td><td>&quot;https://s.gr-assets.com/assets…</td><td>[{&quot;18946&quot;,&quot;&quot;}]</td><td>[-0.015779, 0.030699, … 0.000723]</td></tr><tr><td>3</td><td>[&quot;151088&quot;]</td><td>[&quot;summer-2017&quot;, &quot;bullying&quot;, … &quot;re-read&quot;]</td><td>&quot;Bratfest at Tiffany&#x27;s (Clique …</td><td>&quot;Massie Block: The Briarwood bo…</td><td>&quot;https://www.goodreads.com/book…</td><td>&quot;https://images.gr-assets.com/b…</td><td>[{&quot;4605&quot;,&quot;&quot;}]</td><td>[-0.034687, 0.014636, … 0.054508]</td></tr><tr><td>4</td><td>[&quot;812067&quot;]</td><td>[&quot;rosemary-vernon&quot;, &quot;young-adult&quot;, … &quot;to-read&quot;]</td><td>&quot;Questions of Love (Sweet Dream…</td><td>&quot;When Sammi Edwards is chosen t…</td><td>&quot;https://www.goodreads.com/book…</td><td>&quot;https://images.gr-assets.com/b…</td><td>[{&quot;792676&quot;,&quot;&quot;}]</td><td>[-0.027176, 0.023453, … 0.020856]</td></tr></tbody></table></div>"
      ],
      "text/plain": [
       "shape: (5, 9)\n",
       "┌─────────┬────────────┬───────────┬───────────┬───┬───────────┬───────────┬───────────┬───────────┐\n",
       "│ item_id ┆ series     ┆ tags      ┆ title     ┆ … ┆ url       ┆ image_url ┆ authors   ┆ title_emb │\n",
       "│ ---     ┆ ---        ┆ ---       ┆ ---       ┆   ┆ ---       ┆ ---       ┆ ---       ┆ eddings   │\n",
       "│ i64     ┆ list[str]  ┆ list[str] ┆ str       ┆   ┆ str       ┆ str       ┆ list[stru ┆ ---       │\n",
       "│         ┆            ┆           ┆           ┆   ┆           ┆           ┆ ct[2]]    ┆ array[f32 │\n",
       "│         ┆            ┆           ┆           ┆   ┆           ┆           ┆           ┆ , 1024]   │\n",
       "╞═════════╪════════════╪═══════════╪═══════════╪═══╪═══════════╪═══════════╪═══════════╪═══════════╡\n",
       "│ 0       ┆ [null]     ┆ [\"e-book\" ┆ Hallie    ┆ … ┆ https://w ┆ https://i ┆ [{\"187949 ┆ [-0.01439 │\n",
       "│         ┆            ┆ , \"young- ┆ Hath No   ┆   ┆ ww.goodre ┆ mages.gr- ┆ 4\",\"\"}]   ┆ 1, -0.001 │\n",
       "│         ┆            ┆ adult\", … ┆ Fury . .  ┆   ┆ ads.com/b ┆ assets.co ┆           ┆ 098, …    │\n",
       "│         ┆            ┆ \"y…       ┆ .         ┆   ┆ ook…      ┆ m/b…      ┆           ┆ 0.043…    │\n",
       "│ 1       ┆ [\"149079\"] ┆ [\"primary ┆ Hide and  ┆ … ┆ https://w ┆ https://s ┆ [{\"21740\" ┆ [-0.01719 │\n",
       "│         ┆            ┆ \", \"melis ┆ Shriek:   ┆   ┆ ww.goodre ┆ .gr-asset ┆ ,\"\"}]     ┆ 3,        │\n",
       "│         ┆            ┆ sa-j--mor ┆ Super     ┆   ┆ ads.com/b ┆ s.com/ass ┆           ┆ 0.014635, │\n",
       "│         ┆            ┆ gan…      ┆ Special…  ┆   ┆ ook…      ┆ ets…      ┆           ┆ … 0.0685… │\n",
       "│ 2       ┆ [null]     ┆ [\"friends ┆ Dear Mom, ┆ … ┆ https://w ┆ https://s ┆ [{\"18946\" ┆ [-0.01577 │\n",
       "│         ┆            ┆ hip\", \"mi ┆ You're    ┆   ┆ ww.goodre ┆ .gr-asset ┆ ,\"\"}]     ┆ 9,        │\n",
       "│         ┆            ┆ ddle-read ┆ Ruining   ┆   ┆ ads.com/b ┆ s.com/ass ┆           ┆ 0.030699, │\n",
       "│         ┆            ┆ er\"…      ┆ My Li…    ┆   ┆ ook…      ┆ ets…      ┆           ┆ … 0.0007… │\n",
       "│ 3       ┆ [\"151088\"] ┆ [\"summer- ┆ Bratfest  ┆ … ┆ https://w ┆ https://i ┆ [{\"4605\", ┆ [-0.03468 │\n",
       "│         ┆            ┆ 2017\",    ┆ at        ┆   ┆ ww.goodre ┆ mages.gr- ┆ \"\"}]      ┆ 7,        │\n",
       "│         ┆            ┆ \"bullying ┆ Tiffany's ┆   ┆ ads.com/b ┆ assets.co ┆           ┆ 0.014636, │\n",
       "│         ┆            ┆ \", … …    ┆ (Clique … ┆   ┆ ook…      ┆ m/b…      ┆           ┆ … 0.0545… │\n",
       "│ 4       ┆ [\"812067\"] ┆ [\"rosemar ┆ Questions ┆ … ┆ https://w ┆ https://i ┆ [{\"792676 ┆ [-0.02717 │\n",
       "│         ┆            ┆ y-vernon\" ┆ of Love   ┆   ┆ ww.goodre ┆ mages.gr- ┆ \",\"\"}]    ┆ 6,        │\n",
       "│         ┆            ┆ , \"young- ┆ (Sweet    ┆   ┆ ads.com/b ┆ assets.co ┆           ┆ 0.023453, │\n",
       "│         ┆            ┆ adu…      ┆ Dream…    ┆   ┆ ook…      ┆ m/b…      ┆           ┆ … 0.0208… │\n",
       "└─────────┴────────────┴───────────┴───────────┴───┴───────────┴───────────┴───────────┴───────────┘"
      ]
     },
     "metadata": {},
     "output_type": "display_data"
    }
   ],
   "source": [
    "# data_folder = \"/home/gleb_galagan/tbank_recsys/sirius_recsys/sirius-2025-recsys/data/\"\n",
    "books = pl.read_parquet('/home/gleb_galagan/tbank_recsys/baseline_solution/books_title_emb.parquet')\n",
    "print(\"Books:\")\n",
    "print(books.shape)\n",
    "display(books.head(5))"
   ]
  },
  {
   "cell_type": "code",
   "execution_count": 5,
   "id": "32b109d0",
   "metadata": {},
   "outputs": [
    {
     "data": {
      "text/html": [
       "<div><style>\n",
       ".dataframe > thead > tr,\n",
       ".dataframe > tbody > tr {\n",
       "  text-align: right;\n",
       "  white-space: pre-wrap;\n",
       "}\n",
       "</style>\n",
       "<small>shape: (34_322, 10)</small><table border=\"1\" class=\"dataframe\"><thead><tr><th>item_id</th><th>series</th><th>tags</th><th>title</th><th>description</th><th>url</th><th>image_url</th><th>authors</th><th>title_embeddings</th><th>description_embeddings</th></tr><tr><td>i64</td><td>list[str]</td><td>list[str]</td><td>str</td><td>str</td><td>str</td><td>str</td><td>list[struct[2]]</td><td>array[f32, 1024]</td><td>array[f32, 1024]</td></tr></thead><tbody><tr><td>0</td><td>[null]</td><td>[&quot;e-book&quot;, &quot;young-adult&quot;, … &quot;y-a&quot;]</td><td>&quot;Hallie Hath No Fury . . .&quot;</td><td>&quot;There are two sides to every s…</td><td>&quot;https://www.goodreads.com/book…</td><td>&quot;https://images.gr-assets.com/b…</td><td>[{&quot;1879494&quot;,&quot;&quot;}]</td><td>[-0.014391, -0.001098, … 0.043958]</td><td>[0.001658, 0.014927, … -0.007849]</td></tr><tr><td>1</td><td>[&quot;149079&quot;]</td><td>[&quot;primary&quot;, &quot;melissa-j--morgan&quot;, … &quot;fiction&quot;]</td><td>&quot;Hide and Shriek: Super Special…</td><td>&quot;The girls go on an overnight a…</td><td>&quot;https://www.goodreads.com/book…</td><td>&quot;https://s.gr-assets.com/assets…</td><td>[{&quot;21740&quot;,&quot;&quot;}]</td><td>[-0.017193, 0.014635, … 0.068515]</td><td>[0.000373, 0.009427, … 0.023978]</td></tr><tr><td>2</td><td>[null]</td><td>[&quot;friendship&quot;, &quot;middle-reader&quot;, … &quot;my-library&quot;]</td><td>&quot;Dear Mom, You&#x27;re Ruining My Li…</td><td>&quot;Samantha Slayton worries about…</td><td>&quot;https://www.goodreads.com/book…</td><td>&quot;https://s.gr-assets.com/assets…</td><td>[{&quot;18946&quot;,&quot;&quot;}]</td><td>[-0.015779, 0.030699, … 0.000723]</td><td>[0.015735, 0.015547, … 0.033758]</td></tr><tr><td>3</td><td>[&quot;151088&quot;]</td><td>[&quot;summer-2017&quot;, &quot;bullying&quot;, … &quot;re-read&quot;]</td><td>&quot;Bratfest at Tiffany&#x27;s (Clique …</td><td>&quot;Massie Block: The Briarwood bo…</td><td>&quot;https://www.goodreads.com/book…</td><td>&quot;https://images.gr-assets.com/b…</td><td>[{&quot;4605&quot;,&quot;&quot;}]</td><td>[-0.034687, 0.014636, … 0.054508]</td><td>[-0.012077, 0.016581, … 0.051061]</td></tr><tr><td>4</td><td>[&quot;812067&quot;]</td><td>[&quot;rosemary-vernon&quot;, &quot;young-adult&quot;, … &quot;to-read&quot;]</td><td>&quot;Questions of Love (Sweet Dream…</td><td>&quot;When Sammi Edwards is chosen t…</td><td>&quot;https://www.goodreads.com/book…</td><td>&quot;https://images.gr-assets.com/b…</td><td>[{&quot;792676&quot;,&quot;&quot;}]</td><td>[-0.027176, 0.023453, … 0.020856]</td><td>[-0.011821, -0.033938, … -0.032632]</td></tr><tr><td>&hellip;</td><td>&hellip;</td><td>&hellip;</td><td>&hellip;</td><td>&hellip;</td><td>&hellip;</td><td>&hellip;</td><td>&hellip;</td><td>&hellip;</td><td>&hellip;</td></tr><tr><td>34317</td><td>[&quot;849421&quot;]</td><td>[&quot;will-never-read&quot;, &quot;action&quot;, … &quot;fiction&quot;]</td><td>&quot;The Cruelty (The Cruelty, #1)&quot;</td><td>&quot;When her diplomat father is ki…</td><td>&quot;https://www.goodreads.com/book…</td><td>&quot;https://images.gr-assets.com/b…</td><td>[{&quot;14713542&quot;,&quot;&quot;}]</td><td>[-0.025789, 0.045962, … -0.005911]</td><td>[-0.035014, 0.027219, … 0.024303]</td></tr><tr><td>34318</td><td>[&quot;795937&quot;]</td><td>[&quot;haven-t-bothered-to-finish&quot;, &quot;library&quot;, … &quot;favorites&quot;]</td><td>&quot;Does Snogging Count as Exercis…</td><td>&quot;As one of the only girls in Ye…</td><td>&quot;https://www.goodreads.com/book…</td><td>&quot;https://s.gr-assets.com/assets…</td><td>[{&quot;753459&quot;,&quot;&quot;}]</td><td>[-0.032484, -0.004517, … 0.019637]</td><td>[-0.041801, 0.033155, … 0.055893]</td></tr><tr><td>34319</td><td>[&quot;921523&quot;]</td><td>[&quot;young-adult&quot;, &quot;200-299-pgs&quot;, … &quot;i-don-t-know&quot;]</td><td>&quot;Discovery (The Gifted, #1)&quot;</td><td>&quot;All twenty-three year old Kate…</td><td>&quot;https://www.goodreads.com/book…</td><td>&quot;https://images.gr-assets.com/b…</td><td>[{&quot;14590184&quot;,&quot;&quot;}]</td><td>[0.007021, 0.001272, … 0.027752]</td><td>[-0.008719, -0.009974, … 0.031754]</td></tr><tr><td>34320</td><td>[&quot;251973&quot;]</td><td>[&quot;2x-legend-myth-power&quot;, &quot;fantasy-teen&quot;, … &quot;trt-posted-reviews&quot;]</td><td>&quot;Cybermage (Worldweavers, Book …</td><td>&quot;&quot;</td><td>&quot;https://www.goodreads.com/book…</td><td>&quot;https://s.gr-assets.com/assets…</td><td>[{&quot;36343&quot;,&quot;&quot;}]</td><td>[-0.014694, 0.039774, … 0.023292]</td><td>[-0.029831, -0.006404, … 0.002007]</td></tr><tr><td>34321</td><td>[null]</td><td>[&quot;library&quot;, &quot;arizona&quot;, … &quot;young-adult&quot;]</td><td>&quot;Red Glass&quot;</td><td>&quot;&quot;</td><td>&quot;https://www.goodreads.com/book…</td><td>&quot;https://images.gr-assets.com/b…</td><td>[{&quot;202936&quot;,&quot;&quot;}]</td><td>[-0.064094, 0.029782, … 0.048183]</td><td>[-0.029831, -0.006404, … 0.002007]</td></tr></tbody></table></div>"
      ],
      "text/plain": [
       "shape: (34_322, 10)\n",
       "┌─────────┬────────────┬───────────┬───────────┬───┬───────────┬───────────┬───────────┬───────────┐\n",
       "│ item_id ┆ series     ┆ tags      ┆ title     ┆ … ┆ image_url ┆ authors   ┆ title_emb ┆ descripti │\n",
       "│ ---     ┆ ---        ┆ ---       ┆ ---       ┆   ┆ ---       ┆ ---       ┆ eddings   ┆ on_embedd │\n",
       "│ i64     ┆ list[str]  ┆ list[str] ┆ str       ┆   ┆ str       ┆ list[stru ┆ ---       ┆ ings      │\n",
       "│         ┆            ┆           ┆           ┆   ┆           ┆ ct[2]]    ┆ array[f32 ┆ ---       │\n",
       "│         ┆            ┆           ┆           ┆   ┆           ┆           ┆ , 1024]   ┆ array[f32 │\n",
       "│         ┆            ┆           ┆           ┆   ┆           ┆           ┆           ┆ , 1024]   │\n",
       "╞═════════╪════════════╪═══════════╪═══════════╪═══╪═══════════╪═══════════╪═══════════╪═══════════╡\n",
       "│ 0       ┆ [null]     ┆ [\"e-book\" ┆ Hallie    ┆ … ┆ https://i ┆ [{\"187949 ┆ [-0.01439 ┆ [0.001658 │\n",
       "│         ┆            ┆ , \"young- ┆ Hath No   ┆   ┆ mages.gr- ┆ 4\",\"\"}]   ┆ 1, -0.001 ┆ ,         │\n",
       "│         ┆            ┆ adult\", … ┆ Fury . .  ┆   ┆ assets.co ┆           ┆ 098, …    ┆ 0.014927, │\n",
       "│         ┆            ┆ \"y…       ┆ .         ┆   ┆ m/b…      ┆           ┆ 0.043…    ┆ …         │\n",
       "│         ┆            ┆           ┆           ┆   ┆           ┆           ┆           ┆ -0.0078…  │\n",
       "│ 1       ┆ [\"149079\"] ┆ [\"primary ┆ Hide and  ┆ … ┆ https://s ┆ [{\"21740\" ┆ [-0.01719 ┆ [0.000373 │\n",
       "│         ┆            ┆ \", \"melis ┆ Shriek:   ┆   ┆ .gr-asset ┆ ,\"\"}]     ┆ 3,        ┆ ,         │\n",
       "│         ┆            ┆ sa-j--mor ┆ Super     ┆   ┆ s.com/ass ┆           ┆ 0.014635, ┆ 0.009427, │\n",
       "│         ┆            ┆ gan…      ┆ Special…  ┆   ┆ ets…      ┆           ┆ … 0.0685… ┆ …         │\n",
       "│         ┆            ┆           ┆           ┆   ┆           ┆           ┆           ┆ 0.02397…  │\n",
       "│ 2       ┆ [null]     ┆ [\"friends ┆ Dear Mom, ┆ … ┆ https://s ┆ [{\"18946\" ┆ [-0.01577 ┆ [0.015735 │\n",
       "│         ┆            ┆ hip\", \"mi ┆ You're    ┆   ┆ .gr-asset ┆ ,\"\"}]     ┆ 9,        ┆ ,         │\n",
       "│         ┆            ┆ ddle-read ┆ Ruining   ┆   ┆ s.com/ass ┆           ┆ 0.030699, ┆ 0.015547, │\n",
       "│         ┆            ┆ er\"…      ┆ My Li…    ┆   ┆ ets…      ┆           ┆ … 0.0007… ┆ …         │\n",
       "│         ┆            ┆           ┆           ┆   ┆           ┆           ┆           ┆ 0.03375…  │\n",
       "│ 3       ┆ [\"151088\"] ┆ [\"summer- ┆ Bratfest  ┆ … ┆ https://i ┆ [{\"4605\", ┆ [-0.03468 ┆ [-0.01207 │\n",
       "│         ┆            ┆ 2017\",    ┆ at        ┆   ┆ mages.gr- ┆ \"\"}]      ┆ 7,        ┆ 7,        │\n",
       "│         ┆            ┆ \"bullying ┆ Tiffany's ┆   ┆ assets.co ┆           ┆ 0.014636, ┆ 0.016581, │\n",
       "│         ┆            ┆ \", … …    ┆ (Clique … ┆   ┆ m/b…      ┆           ┆ … 0.0545… ┆ … 0.0510… │\n",
       "│ 4       ┆ [\"812067\"] ┆ [\"rosemar ┆ Questions ┆ … ┆ https://i ┆ [{\"792676 ┆ [-0.02717 ┆ [-0.01182 │\n",
       "│         ┆            ┆ y-vernon\" ┆ of Love   ┆   ┆ mages.gr- ┆ \",\"\"}]    ┆ 6,        ┆ 1, -0.033 │\n",
       "│         ┆            ┆ , \"young- ┆ (Sweet    ┆   ┆ assets.co ┆           ┆ 0.023453, ┆ 938, …    │\n",
       "│         ┆            ┆ adu…      ┆ Dream…    ┆   ┆ m/b…      ┆           ┆ … 0.0208… ┆ -0.03…    │\n",
       "│ …       ┆ …          ┆ …         ┆ …         ┆ … ┆ …         ┆ …         ┆ …         ┆ …         │\n",
       "│ 34317   ┆ [\"849421\"] ┆ [\"will-ne ┆ The       ┆ … ┆ https://i ┆ [{\"147135 ┆ [-0.02578 ┆ [-0.03501 │\n",
       "│         ┆            ┆ ver-read\" ┆ Cruelty   ┆   ┆ mages.gr- ┆ 42\",\"\"}]  ┆ 9,        ┆ 4,        │\n",
       "│         ┆            ┆ ,         ┆ (The      ┆   ┆ assets.co ┆           ┆ 0.045962, ┆ 0.027219, │\n",
       "│         ┆            ┆ \"action\", ┆ Cruelty,  ┆   ┆ m/b…      ┆           ┆ … -0.005… ┆ … 0.0243… │\n",
       "│         ┆            ┆ …         ┆ #1)       ┆   ┆           ┆           ┆           ┆           │\n",
       "│ 34318   ┆ [\"795937\"] ┆ [\"haven-t ┆ Does      ┆ … ┆ https://s ┆ [{\"753459 ┆ [-0.03248 ┆ [-0.04180 │\n",
       "│         ┆            ┆ -bothered ┆ Snogging  ┆   ┆ .gr-asset ┆ \",\"\"}]    ┆ 4, -0.004 ┆ 1,        │\n",
       "│         ┆            ┆ -to-finis ┆ Count as  ┆   ┆ s.com/ass ┆           ┆ 517, …    ┆ 0.033155, │\n",
       "│         ┆            ┆ h\",…      ┆ Exercis…  ┆   ┆ ets…      ┆           ┆ 0.019…    ┆ … 0.0558… │\n",
       "│ 34319   ┆ [\"921523\"] ┆ [\"young-a ┆ Discovery ┆ … ┆ https://i ┆ [{\"145901 ┆ [0.007021 ┆ [-0.00871 │\n",
       "│         ┆            ┆ dult\",    ┆ (The      ┆   ┆ mages.gr- ┆ 84\",\"\"}]  ┆ ,         ┆ 9, -0.009 │\n",
       "│         ┆            ┆ \"200-299- ┆ Gifted,   ┆   ┆ assets.co ┆           ┆ 0.001272, ┆ 974, …    │\n",
       "│         ┆            ┆ pgs\",…    ┆ #1)       ┆   ┆ m/b…      ┆           ┆ …         ┆ 0.031…    │\n",
       "│         ┆            ┆           ┆           ┆   ┆           ┆           ┆ 0.02775…  ┆           │\n",
       "│ 34320   ┆ [\"251973\"] ┆ [\"2x-lege ┆ Cybermage ┆ … ┆ https://s ┆ [{\"36343\" ┆ [-0.01469 ┆ [-0.02983 │\n",
       "│         ┆            ┆ nd-myth-p ┆ (Worldwea ┆   ┆ .gr-asset ┆ ,\"\"}]     ┆ 4,        ┆ 1, -0.006 │\n",
       "│         ┆            ┆ ower\",    ┆ vers,     ┆   ┆ s.com/ass ┆           ┆ 0.039774, ┆ 404, …    │\n",
       "│         ┆            ┆ \"fant…    ┆ Book …    ┆   ┆ ets…      ┆           ┆ … 0.0232… ┆ 0.002…    │\n",
       "│ 34321   ┆ [null]     ┆ [\"library ┆ Red Glass ┆ … ┆ https://i ┆ [{\"202936 ┆ [-0.06409 ┆ [-0.02983 │\n",
       "│         ┆            ┆ \", \"arizo ┆           ┆   ┆ mages.gr- ┆ \",\"\"}]    ┆ 4,        ┆ 1, -0.006 │\n",
       "│         ┆            ┆ na\", …    ┆           ┆   ┆ assets.co ┆           ┆ 0.029782, ┆ 404, …    │\n",
       "│         ┆            ┆ \"youn…    ┆           ┆   ┆ m/b…      ┆           ┆ … 0.0481… ┆ 0.002…    │\n",
       "└─────────┴────────────┴───────────┴───────────┴───┴───────────┴───────────┴───────────┴───────────┘"
      ]
     },
     "execution_count": 5,
     "metadata": {},
     "output_type": "execute_result"
    }
   ],
   "source": [
    "# books_emb = books_emb.with_columns(bge_model.encode(pl.col('description')).alias('description_embeddings'))\n",
    "# books_emb\n",
    "# books_emb = books.with_columns(bge_model.encode(pl.col('title')).alias('title_embeddings'))\n",
    "# books_emb\n",
    "# Get all titles\n",
    "descriptions = books['description'].to_list()\n",
    "\n",
    "# Encode all at once (more efficient)\n",
    "embeddings_description = bge_model.encode(descriptions)\n",
    "\n",
    "# Create new dataframe with embeddings\n",
    "books_emb = books.with_columns(\n",
    "    pl.Series(\"description_embeddings\", list(embeddings_description))\n",
    ")\n",
    "books_emb"
   ]
  },
  {
   "cell_type": "code",
   "execution_count": 7,
   "id": "14b2f55c",
   "metadata": {},
   "outputs": [],
   "source": [
    "books_emb.write_parquet('books_title_description_emb.parquet')\n"
   ]
  },
  {
   "cell_type": "code",
   "execution_count": 8,
   "id": "02d876d5",
   "metadata": {},
   "outputs": [
    {
     "name": "stdout",
     "output_type": "stream",
     "text": [
      "Books:\n",
      "(34322, 10)\n"
     ]
    },
    {
     "data": {
      "text/html": [
       "<div><style>\n",
       ".dataframe > thead > tr,\n",
       ".dataframe > tbody > tr {\n",
       "  text-align: right;\n",
       "  white-space: pre-wrap;\n",
       "}\n",
       "</style>\n",
       "<small>shape: (5, 10)</small><table border=\"1\" class=\"dataframe\"><thead><tr><th>item_id</th><th>series</th><th>tags</th><th>title</th><th>description</th><th>url</th><th>image_url</th><th>authors</th><th>title_embeddings</th><th>description_embeddings</th></tr><tr><td>i64</td><td>list[str]</td><td>list[str]</td><td>str</td><td>str</td><td>str</td><td>str</td><td>list[struct[2]]</td><td>array[f32, 1024]</td><td>array[f32, 1024]</td></tr></thead><tbody><tr><td>0</td><td>[null]</td><td>[&quot;e-book&quot;, &quot;young-adult&quot;, … &quot;y-a&quot;]</td><td>&quot;Hallie Hath No Fury . . .&quot;</td><td>&quot;There are two sides to every s…</td><td>&quot;https://www.goodreads.com/book…</td><td>&quot;https://images.gr-assets.com/b…</td><td>[{&quot;1879494&quot;,&quot;&quot;}]</td><td>[-0.014391, -0.001098, … 0.043958]</td><td>[0.001658, 0.014927, … -0.007849]</td></tr><tr><td>1</td><td>[&quot;149079&quot;]</td><td>[&quot;primary&quot;, &quot;melissa-j--morgan&quot;, … &quot;fiction&quot;]</td><td>&quot;Hide and Shriek: Super Special…</td><td>&quot;The girls go on an overnight a…</td><td>&quot;https://www.goodreads.com/book…</td><td>&quot;https://s.gr-assets.com/assets…</td><td>[{&quot;21740&quot;,&quot;&quot;}]</td><td>[-0.017193, 0.014635, … 0.068515]</td><td>[0.000373, 0.009427, … 0.023978]</td></tr><tr><td>2</td><td>[null]</td><td>[&quot;friendship&quot;, &quot;middle-reader&quot;, … &quot;my-library&quot;]</td><td>&quot;Dear Mom, You&#x27;re Ruining My Li…</td><td>&quot;Samantha Slayton worries about…</td><td>&quot;https://www.goodreads.com/book…</td><td>&quot;https://s.gr-assets.com/assets…</td><td>[{&quot;18946&quot;,&quot;&quot;}]</td><td>[-0.015779, 0.030699, … 0.000723]</td><td>[0.015735, 0.015547, … 0.033758]</td></tr><tr><td>3</td><td>[&quot;151088&quot;]</td><td>[&quot;summer-2017&quot;, &quot;bullying&quot;, … &quot;re-read&quot;]</td><td>&quot;Bratfest at Tiffany&#x27;s (Clique …</td><td>&quot;Massie Block: The Briarwood bo…</td><td>&quot;https://www.goodreads.com/book…</td><td>&quot;https://images.gr-assets.com/b…</td><td>[{&quot;4605&quot;,&quot;&quot;}]</td><td>[-0.034687, 0.014636, … 0.054508]</td><td>[-0.012077, 0.016581, … 0.051061]</td></tr><tr><td>4</td><td>[&quot;812067&quot;]</td><td>[&quot;rosemary-vernon&quot;, &quot;young-adult&quot;, … &quot;to-read&quot;]</td><td>&quot;Questions of Love (Sweet Dream…</td><td>&quot;When Sammi Edwards is chosen t…</td><td>&quot;https://www.goodreads.com/book…</td><td>&quot;https://images.gr-assets.com/b…</td><td>[{&quot;792676&quot;,&quot;&quot;}]</td><td>[-0.027176, 0.023453, … 0.020856]</td><td>[-0.011821, -0.033938, … -0.032632]</td></tr></tbody></table></div>"
      ],
      "text/plain": [
       "shape: (5, 10)\n",
       "┌─────────┬────────────┬───────────┬───────────┬───┬───────────┬───────────┬───────────┬───────────┐\n",
       "│ item_id ┆ series     ┆ tags      ┆ title     ┆ … ┆ image_url ┆ authors   ┆ title_emb ┆ descripti │\n",
       "│ ---     ┆ ---        ┆ ---       ┆ ---       ┆   ┆ ---       ┆ ---       ┆ eddings   ┆ on_embedd │\n",
       "│ i64     ┆ list[str]  ┆ list[str] ┆ str       ┆   ┆ str       ┆ list[stru ┆ ---       ┆ ings      │\n",
       "│         ┆            ┆           ┆           ┆   ┆           ┆ ct[2]]    ┆ array[f32 ┆ ---       │\n",
       "│         ┆            ┆           ┆           ┆   ┆           ┆           ┆ , 1024]   ┆ array[f32 │\n",
       "│         ┆            ┆           ┆           ┆   ┆           ┆           ┆           ┆ , 1024]   │\n",
       "╞═════════╪════════════╪═══════════╪═══════════╪═══╪═══════════╪═══════════╪═══════════╪═══════════╡\n",
       "│ 0       ┆ [null]     ┆ [\"e-book\" ┆ Hallie    ┆ … ┆ https://i ┆ [{\"187949 ┆ [-0.01439 ┆ [0.001658 │\n",
       "│         ┆            ┆ , \"young- ┆ Hath No   ┆   ┆ mages.gr- ┆ 4\",\"\"}]   ┆ 1, -0.001 ┆ ,         │\n",
       "│         ┆            ┆ adult\", … ┆ Fury . .  ┆   ┆ assets.co ┆           ┆ 098, …    ┆ 0.014927, │\n",
       "│         ┆            ┆ \"y…       ┆ .         ┆   ┆ m/b…      ┆           ┆ 0.043…    ┆ …         │\n",
       "│         ┆            ┆           ┆           ┆   ┆           ┆           ┆           ┆ -0.0078…  │\n",
       "│ 1       ┆ [\"149079\"] ┆ [\"primary ┆ Hide and  ┆ … ┆ https://s ┆ [{\"21740\" ┆ [-0.01719 ┆ [0.000373 │\n",
       "│         ┆            ┆ \", \"melis ┆ Shriek:   ┆   ┆ .gr-asset ┆ ,\"\"}]     ┆ 3,        ┆ ,         │\n",
       "│         ┆            ┆ sa-j--mor ┆ Super     ┆   ┆ s.com/ass ┆           ┆ 0.014635, ┆ 0.009427, │\n",
       "│         ┆            ┆ gan…      ┆ Special…  ┆   ┆ ets…      ┆           ┆ … 0.0685… ┆ …         │\n",
       "│         ┆            ┆           ┆           ┆   ┆           ┆           ┆           ┆ 0.02397…  │\n",
       "│ 2       ┆ [null]     ┆ [\"friends ┆ Dear Mom, ┆ … ┆ https://s ┆ [{\"18946\" ┆ [-0.01577 ┆ [0.015735 │\n",
       "│         ┆            ┆ hip\", \"mi ┆ You're    ┆   ┆ .gr-asset ┆ ,\"\"}]     ┆ 9,        ┆ ,         │\n",
       "│         ┆            ┆ ddle-read ┆ Ruining   ┆   ┆ s.com/ass ┆           ┆ 0.030699, ┆ 0.015547, │\n",
       "│         ┆            ┆ er\"…      ┆ My Li…    ┆   ┆ ets…      ┆           ┆ … 0.0007… ┆ …         │\n",
       "│         ┆            ┆           ┆           ┆   ┆           ┆           ┆           ┆ 0.03375…  │\n",
       "│ 3       ┆ [\"151088\"] ┆ [\"summer- ┆ Bratfest  ┆ … ┆ https://i ┆ [{\"4605\", ┆ [-0.03468 ┆ [-0.01207 │\n",
       "│         ┆            ┆ 2017\",    ┆ at        ┆   ┆ mages.gr- ┆ \"\"}]      ┆ 7,        ┆ 7,        │\n",
       "│         ┆            ┆ \"bullying ┆ Tiffany's ┆   ┆ assets.co ┆           ┆ 0.014636, ┆ 0.016581, │\n",
       "│         ┆            ┆ \", … …    ┆ (Clique … ┆   ┆ m/b…      ┆           ┆ … 0.0545… ┆ … 0.0510… │\n",
       "│ 4       ┆ [\"812067\"] ┆ [\"rosemar ┆ Questions ┆ … ┆ https://i ┆ [{\"792676 ┆ [-0.02717 ┆ [-0.01182 │\n",
       "│         ┆            ┆ y-vernon\" ┆ of Love   ┆   ┆ mages.gr- ┆ \",\"\"}]    ┆ 6,        ┆ 1, -0.033 │\n",
       "│         ┆            ┆ , \"young- ┆ (Sweet    ┆   ┆ assets.co ┆           ┆ 0.023453, ┆ 938, …    │\n",
       "│         ┆            ┆ adu…      ┆ Dream…    ┆   ┆ m/b…      ┆           ┆ … 0.0208… ┆ -0.03…    │\n",
       "└─────────┴────────────┴───────────┴───────────┴───┴───────────┴───────────┴───────────┴───────────┘"
      ]
     },
     "metadata": {},
     "output_type": "display_data"
    }
   ],
   "source": [
    "# data_folder = \"/home/gleb_galagan/tbank_recsys/sirius_recsys/sirius-2025-recsys/data/\"\n",
    "books_new = pl.read_parquet('/home/gleb_galagan/tbank_recsys/baseline_solution/books_title_description_emb.parquet')\n",
    "print(\"Books:\")\n",
    "print(books_new.shape)\n",
    "display(books_new.head(5))"
   ]
  },
  {
   "cell_type": "code",
   "execution_count": null,
   "id": "2fdb5c70",
   "metadata": {},
   "outputs": [],
   "source": []
  }
 ],
 "metadata": {
  "kernelspec": {
   "display_name": "base_venv",
   "language": "python",
   "name": "python3"
  },
  "language_info": {
   "codemirror_mode": {
    "name": "ipython",
    "version": 3
   },
   "file_extension": ".py",
   "mimetype": "text/x-python",
   "name": "python",
   "nbconvert_exporter": "python",
   "pygments_lexer": "ipython3",
   "version": "3.10.18"
  }
 },
 "nbformat": 4,
 "nbformat_minor": 5
}
