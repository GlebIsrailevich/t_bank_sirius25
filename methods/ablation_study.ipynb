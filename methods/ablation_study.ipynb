{
 "cells": [
  {
   "cell_type": "markdown",
   "id": "4028ac4d",
   "metadata": {},
   "source": [
    "# Подобие Ablation Study\n",
    "\n",
    "Здесь я сравню полученные в разных моделях результаты"
   ]
  },
  {
   "cell_type": "code",
   "execution_count": null,
   "id": "921c5f23",
   "metadata": {},
   "outputs": [],
   "source": [
    "import pandas as pd"
   ]
  },
  {
   "cell_type": "markdown",
   "id": "6ad3732c",
   "metadata": {},
   "source": [
    "## Грузим результаты"
   ]
  },
  {
   "cell_type": "code",
   "execution_count": null,
   "id": "b9937671",
   "metadata": {},
   "outputs": [],
   "source": [
    "knns_ov = pd.read_csv('results_csv/knn_variations_ov.csv')\n",
    "knns_split = pd.read_csv('results_csv/knn_variations_split.csv')\n",
    "\n",
    "greedy_mab_ov = pd.read_csv('methods/results_csv/greedy_mab_ov.csv')\n",
    "greedy_mab_ov = pd.read_csv('methods/results_csv/greedy_mab_ov.csv')\n",
    "\n",
    "\n",
    "catboost_ov = pd.read_csv('methods/results_csv/catboost_res_ov.csv')\n",
    "catboost_split = pd.read_csv('methods/results_csv/catboost_res_split.csv')\n",
    "\n"
   ]
  },
  {
   "cell_type": "markdown",
   "id": "554ca0fa",
   "metadata": {},
   "source": [
    "Еще я пробовал LightFM, но там прям совсем медленно и проблема с тем чтобы выдать контентные рекомендации такая же как у бустинга. \n",
    "\n",
    "- Хочешь использовать только контентные фичи -> получааешь единый список лучших айтемов (дорогой Popular)\n",
    "\n",
    "- Хочешь чтобы оно сработало -> Мерджишь с интеракциями -> Теряешь холодные айтемы (остаются без рекомендаций)\n",
    "\n"
   ]
  },
  {
   "cell_type": "code",
   "execution_count": null,
   "id": "19765be8",
   "metadata": {},
   "outputs": [],
   "source": [
    "# Function to highlight row-wise best/worst\n",
    "def highlight_row(s):\n",
    "    is_max = s == s.max()\n",
    "    is_min = s == s.min()\n",
    "    return [\n",
    "        \"background-color: lightgreen\" if v else\n",
    "        \"background-color: salmon\" if w else \"\"\n",
    "        for v, w in zip(is_max, is_min)\n",
    "    ]\n"
   ]
  },
  {
   "cell_type": "markdown",
   "id": "f1cf6810",
   "metadata": {},
   "source": []
  }
 ],
 "metadata": {
  "kernelspec": {
   "display_name": "base_venv",
   "language": "python",
   "name": "python3"
  },
  "language_info": {
   "name": "python",
   "version": "3.10.18"
  }
 },
 "nbformat": 4,
 "nbformat_minor": 5
}
