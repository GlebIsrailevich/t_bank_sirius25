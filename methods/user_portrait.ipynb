{
 "cells": [
  {
   "cell_type": "markdown",
   "id": "a2f26303",
   "metadata": {},
   "source": [
    "# Генерация портрета юзера по описанию прочитанных книг\n",
    "Забегая вперед скажу попытка неудачная. Время генерации на одного юзера слишком большое, а набор описаний книг зачастую превышает контекст маленьких и быстрых LLM моделей"
   ]
  },
  {
   "cell_type": "code",
   "execution_count": null,
   "id": "25a1ce7b",
   "metadata": {},
   "outputs": [],
   "source": [
    "from langchain_openai import ChatOpenAI\n",
    "from yandex_cloud_ml_sdk import YCloudML, AsyncYCloudML\n",
    "\n",
    "YA_GPT_FOLDER_ID = 'YA_GPT_FOLDER_ID'\n",
    "YA_GPT_AUTH = 'YA_GPT_AUTH'\n",
    "YA_GPT_MODEL_NAME = 'yandexgpt'\n",
    "YA_GPT_MODEL_VERSION = 'rc'\n",
    "\n",
    "sdk = YCloudML(folder_id=YA_GPT_FOLDER_ID, auth=YA_GPT_AUTH) \n",
    "sdk.setup_default_logging() \n",
    "\n",
    "\n",
    "model = sdk.models.completions(model_name=YA_GPT_MODEL_NAME, model_version=YA_GPT_MODEL_VERSION) \n",
    "\n",
    "\n",
    "instruct_model = model.configure(temperature=0.1)\n",
    "YAGPT_5_PRO = model.langchain(model_type=\"chat\", timeout=60)\n",
    "\n",
    "\n",
    "\n",
    "\n",
    "QWEN_LARGE_OPENAI = ChatOpenAI(model=f\"gpt://{YA_GPT_FOLDER_ID}/qwen3-235b-a22b-fp8/latest\",\n",
    "                                openai_api_key=f\"{YA_GPT_AUTH}\",\n",
    "                                openai_api_base=\"https://llm.api.cloud.yandex.net/v1\",\n",
    "                                temperature=0.1,\n",
    "                                timeout=60)\n",
    "\n",
    "GPT_OSS = ChatOpenAI(model=f\"gpt://{YA_GPT_FOLDER_ID}/gpt-oss-20b/latest\",\n",
    "                                openai_api_key=f\"{YA_GPT_AUTH}\",\n",
    "                                openai_api_base=\"https://llm.api.cloud.yandex.net/v1\",\n",
    "                                temperature=0.1,\n",
    "                                timeout=60)\n",
    "\n",
    "\n",
    "\n"
   ]
  },
  {
   "cell_type": "markdown",
   "id": "8e27b5cf",
   "metadata": {},
   "source": [
    "## Подготовка данных"
   ]
  },
  {
   "cell_type": "code",
   "execution_count": null,
   "id": "76d6ccda",
   "metadata": {},
   "outputs": [],
   "source": [
    "import pandas as pd\n",
    "import polars as pl\n",
    "import numpy as np\n",
    "np.random.seed(2025)\n",
    "\n",
    "\n",
    "data_folder = \"/home/gleb_galagan/tbank_recsys/sirius_recsys/sirius-2025-recsys/data/\"\n",
    "train = pl.read_parquet(data_folder + \"train.pq\")\n",
    "books = pl.read_parquet('/home/gleb_galagan/tbank_recsys/baseline_solution/books_all_embs.parquet')\n",
    "test_exploded = pl.read_parquet(data_folder + \"test.pq\")\n",
    "test = test_exploded.group_by(\"user_id\", maintain_order=True).agg(pl.col(\"item_id\"))"
   ]
  },
  {
   "cell_type": "code",
   "execution_count": null,
   "id": "396b48c1",
   "metadata": {},
   "outputs": [
    {
     "data": {
      "text/html": [
       "<div><style>\n",
       ".dataframe > thead > tr,\n",
       ".dataframe > tbody > tr {\n",
       "  text-align: right;\n",
       "  white-space: pre-wrap;\n",
       "}\n",
       "</style>\n",
       "<small>shape: (4_691_459, 6)</small><table border=\"1\" class=\"dataframe\"><thead><tr><th>user_id</th><th>item_id</th><th>is_read</th><th>rating</th><th>date_added</th><th>title_description</th></tr><tr><td>str</td><td>i64</td><td>bool</td><td>i64</td><td>datetime[μs]</td><td>str</td></tr></thead><tbody><tr><td>&quot;bd3a389144e323f09d340a85b1481b…</td><td>4039</td><td>true</td><td>0</td><td>2014-05-15 12:51:31</td><td>&quot;Eldest (The Inheritance Cycle,…</td></tr><tr><td>&quot;081af30272710f8b6f27e182282f91…</td><td>19293</td><td>true</td><td>5</td><td>2014-05-15 12:52:24</td><td>&quot;The Blood of Olympus (The Hero…</td></tr><tr><td>&quot;3f03e62aae345d2a347e23d00f4973…</td><td>9147</td><td>true</td><td>3</td><td>2014-05-15 12:52:47</td><td>&quot;The Lightning Thief (Percy Jac…</td></tr><tr><td>&quot;1805e0de286e00e97e984b281f238b…</td><td>2588</td><td>true</td><td>1</td><td>2014-05-15 12:53:19</td><td>&quot;Branded (Sinners, #1)Alternate…</td></tr><tr><td>&quot;40b8d9dca682712012105330b511e2…</td><td>25354</td><td>true</td><td>4</td><td>2014-05-15 12:53:59</td><td>&quot;ConversionFrom the New York Ti…</td></tr><tr><td>&hellip;</td><td>&hellip;</td><td>&hellip;</td><td>&hellip;</td><td>&hellip;</td><td>&hellip;</td></tr><tr><td>&quot;3938a953bc0ab5a3247f7fcf8279b3…</td><td>23960</td><td>true</td><td>5</td><td>2016-12-10 02:44:15</td><td>&quot;Crooked Kingdom (Six of Crows,…</td></tr><tr><td>&quot;91a9e9654b69bc35a0001047125651…</td><td>7197</td><td>true</td><td>4</td><td>2016-12-10 02:44:18</td><td>&quot;Breakfast Served AnytimeA comi…</td></tr><tr><td>&quot;f4cf0c5716c66a0814144eb6ded258…</td><td>30704</td><td>true</td><td>5</td><td>2016-12-10 02:44:47</td><td>&quot;The Lost Herondale (Tales from…</td></tr><tr><td>&quot;6aa2230015d8ec1d6d1d467b0c44fc…</td><td>16897</td><td>true</td><td>4</td><td>2016-12-10 02:45:50</td><td>&quot;The One Memory of Flora BanksA…</td></tr><tr><td>&quot;cff0631d0dae40675e525f008aac1d…</td><td>960</td><td>true</td><td>5</td><td>2016-12-10 02:46:10</td><td>&quot;FangirlThis special edition in…</td></tr></tbody></table></div>"
      ],
      "text/plain": [
       "shape: (4_691_459, 6)\n",
       "┌───────────────────────┬─────────┬─────────┬────────┬─────────────────────┬───────────────────────┐\n",
       "│ user_id               ┆ item_id ┆ is_read ┆ rating ┆ date_added          ┆ title_description     │\n",
       "│ ---                   ┆ ---     ┆ ---     ┆ ---    ┆ ---                 ┆ ---                   │\n",
       "│ str                   ┆ i64     ┆ bool    ┆ i64    ┆ datetime[μs]        ┆ str                   │\n",
       "╞═══════════════════════╪═════════╪═════════╪════════╪═════════════════════╪═══════════════════════╡\n",
       "│ bd3a389144e323f09d340 ┆ 4039    ┆ true    ┆ 0      ┆ 2014-05-15 12:51:31 ┆ Eldest (The           │\n",
       "│ a85b1481b…            ┆         ┆         ┆        ┆                     ┆ Inheritance Cycle,…   │\n",
       "│ 081af30272710f8b6f27e ┆ 19293   ┆ true    ┆ 5      ┆ 2014-05-15 12:52:24 ┆ The Blood of Olympus  │\n",
       "│ 182282f91…            ┆         ┆         ┆        ┆                     ┆ (The Hero…            │\n",
       "│ 3f03e62aae345d2a347e2 ┆ 9147    ┆ true    ┆ 3      ┆ 2014-05-15 12:52:47 ┆ The Lightning Thief   │\n",
       "│ 3d00f4973…            ┆         ┆         ┆        ┆                     ┆ (Percy Jac…           │\n",
       "│ 1805e0de286e00e97e984 ┆ 2588    ┆ true    ┆ 1      ┆ 2014-05-15 12:53:19 ┆ Branded (Sinners,     │\n",
       "│ b281f238b…            ┆         ┆         ┆        ┆                     ┆ #1)Alternate…         │\n",
       "│ 40b8d9dca682712012105 ┆ 25354   ┆ true    ┆ 4      ┆ 2014-05-15 12:53:59 ┆ ConversionFrom the    │\n",
       "│ 330b511e2…            ┆         ┆         ┆        ┆                     ┆ New York Ti…          │\n",
       "│ …                     ┆ …       ┆ …       ┆ …      ┆ …                   ┆ …                     │\n",
       "│ 3938a953bc0ab5a3247f7 ┆ 23960   ┆ true    ┆ 5      ┆ 2016-12-10 02:44:15 ┆ Crooked Kingdom (Six  │\n",
       "│ fcf8279b3…            ┆         ┆         ┆        ┆                     ┆ of Crows,…            │\n",
       "│ 91a9e9654b69bc35a0001 ┆ 7197    ┆ true    ┆ 4      ┆ 2016-12-10 02:44:18 ┆ Breakfast Served      │\n",
       "│ 047125651…            ┆         ┆         ┆        ┆                     ┆ AnytimeA comi…        │\n",
       "│ f4cf0c5716c66a0814144 ┆ 30704   ┆ true    ┆ 5      ┆ 2016-12-10 02:44:47 ┆ The Lost Herondale    │\n",
       "│ eb6ded258…            ┆         ┆         ┆        ┆                     ┆ (Tales from…          │\n",
       "│ 6aa2230015d8ec1d6d1d4 ┆ 16897   ┆ true    ┆ 4      ┆ 2016-12-10 02:45:50 ┆ The One Memory of     │\n",
       "│ 67b0c44fc…            ┆         ┆         ┆        ┆                     ┆ Flora BanksA…         │\n",
       "│ cff0631d0dae40675e525 ┆ 960     ┆ true    ┆ 5      ┆ 2016-12-10 02:46:10 ┆ FangirlThis special   │\n",
       "│ f008aac1d…            ┆         ┆         ┆        ┆                     ┆ edition in…           │\n",
       "└───────────────────────┴─────────┴─────────┴────────┴─────────────────────┴───────────────────────┘"
      ]
     },
     "execution_count": 16,
     "metadata": {},
     "output_type": "execute_result"
    }
   ],
   "source": [
    "# Конкатенируем название книги с описанием\n",
    "books = books.with_columns(\n",
    "    (pl.col(\"title\") + \" \" + pl.col(\"description\")).alias(\"title_description\")\n",
    ")\n",
    "\n",
    "read_books_with_desc = (\n",
    "    train\n",
    "    .filter(pl.col(\"is_read\"))  # Выбираем только книги с пометкой прочитано\n",
    "    .join(\n",
    "        books.select([\"item_id\", \"title_description\"]), \n",
    "        on=\"item_id\", \n",
    "        how=\"inner\"\n",
    "    )\n",
    ")\n",
    "read_books_with_desc.head(3)"
   ]
  },
  {
   "cell_type": "code",
   "execution_count": null,
   "id": "3c828b9b",
   "metadata": {},
   "outputs": [
    {
     "name": "stdout",
     "output_type": "stream",
     "text": [
      "shape: (305_924, 2)\n",
      "┌─────────────────────────────────┬─────────────────────────────────┐\n",
      "│ user_id                         ┆ user_profile_description        │\n",
      "│ ---                             ┆ ---                             │\n",
      "│ str                             ┆ str                             │\n",
      "╞═════════════════════════════════╪═════════════════════════════════╡\n",
      "│ 39459fe8f1b597292ff2ef9a45b7a4… ┆ The Fault in Our StarsDespite … │\n",
      "│ ea2a3deed21e9d82e15050d1172feb… ┆ Holes (Holes, #1)(Librarian's … │\n",
      "│ e2ac8bac5212f355aa3a5c3f2b594c… ┆ Stargirl (Stargirl, #1)A celeb… │\n",
      "│ f1adbc2c4663246fed40a59c97aa3f… ┆ City of Heavenly Fire (The Mor… │\n",
      "│ 8b87f215b31743ff1ed18d855c41aa… ┆ FangirlThis special edition in… │\n",
      "│ …                               ┆ …                               │\n",
      "│ 730f3e30a97b8946d932978b7fcf7a… ┆ The Hunger Games (The Hunger G… │\n",
      "│ 20f84473a54e958ef4ff2517657bcf… ┆ The Fault in Our StarsDespite … │\n",
      "│ 0286f66a76993aa732bcdc4887ba6f… ┆ Crossed (Matched, #2)Cassia fl… │\n",
      "│ d3a3742e93bab74d2fe9017a272e55… ┆ The Power of Six (Lorien Legac… │\n",
      "│ 8db3a224857ccd48ffde9e20c08ca4… ┆ Bitterblue (Graceling Realm, #… │\n",
      "└─────────────────────────────────┴─────────────────────────────────┘\n"
     ]
    },
    {
     "data": {
      "text/html": [
       "<div><style>\n",
       ".dataframe > thead > tr,\n",
       ".dataframe > tbody > tr {\n",
       "  text-align: right;\n",
       "  white-space: pre-wrap;\n",
       "}\n",
       "</style>\n",
       "<small>shape: (305_924, 2)</small><table border=\"1\" class=\"dataframe\"><thead><tr><th>user_id</th><th>user_profile_description</th></tr><tr><td>str</td><td>str</td></tr></thead><tbody><tr><td>&quot;39459fe8f1b597292ff2ef9a45b7a4…</td><td>&quot;The Fault in Our StarsDespite …</td></tr><tr><td>&quot;ea2a3deed21e9d82e15050d1172feb…</td><td>&quot;Holes (Holes, #1)(Librarian&#x27;s …</td></tr><tr><td>&quot;e2ac8bac5212f355aa3a5c3f2b594c…</td><td>&quot;Stargirl (Stargirl, #1)A celeb…</td></tr><tr><td>&quot;f1adbc2c4663246fed40a59c97aa3f…</td><td>&quot;City of Heavenly Fire (The Mor…</td></tr><tr><td>&quot;8b87f215b31743ff1ed18d855c41aa…</td><td>&quot;FangirlThis special edition in…</td></tr><tr><td>&hellip;</td><td>&hellip;</td></tr><tr><td>&quot;730f3e30a97b8946d932978b7fcf7a…</td><td>&quot;The Hunger Games (The Hunger G…</td></tr><tr><td>&quot;20f84473a54e958ef4ff2517657bcf…</td><td>&quot;The Fault in Our StarsDespite …</td></tr><tr><td>&quot;0286f66a76993aa732bcdc4887ba6f…</td><td>&quot;Crossed (Matched, #2)Cassia fl…</td></tr><tr><td>&quot;d3a3742e93bab74d2fe9017a272e55…</td><td>&quot;The Power of Six (Lorien Legac…</td></tr><tr><td>&quot;8db3a224857ccd48ffde9e20c08ca4…</td><td>&quot;Bitterblue (Graceling Realm, #…</td></tr></tbody></table></div>"
      ],
      "text/plain": [
       "shape: (305_924, 2)\n",
       "┌─────────────────────────────────┬─────────────────────────────────┐\n",
       "│ user_id                         ┆ user_profile_description        │\n",
       "│ ---                             ┆ ---                             │\n",
       "│ str                             ┆ str                             │\n",
       "╞═════════════════════════════════╪═════════════════════════════════╡\n",
       "│ 39459fe8f1b597292ff2ef9a45b7a4… ┆ The Fault in Our StarsDespite … │\n",
       "│ ea2a3deed21e9d82e15050d1172feb… ┆ Holes (Holes, #1)(Librarian's … │\n",
       "│ e2ac8bac5212f355aa3a5c3f2b594c… ┆ Stargirl (Stargirl, #1)A celeb… │\n",
       "│ f1adbc2c4663246fed40a59c97aa3f… ┆ City of Heavenly Fire (The Mor… │\n",
       "│ 8b87f215b31743ff1ed18d855c41aa… ┆ FangirlThis special edition in… │\n",
       "│ …                               ┆ …                               │\n",
       "│ 730f3e30a97b8946d932978b7fcf7a… ┆ The Hunger Games (The Hunger G… │\n",
       "│ 20f84473a54e958ef4ff2517657bcf… ┆ The Fault in Our StarsDespite … │\n",
       "│ 0286f66a76993aa732bcdc4887ba6f… ┆ Crossed (Matched, #2)Cassia fl… │\n",
       "│ d3a3742e93bab74d2fe9017a272e55… ┆ The Power of Six (Lorien Legac… │\n",
       "│ 8db3a224857ccd48ffde9e20c08ca4… ┆ Bitterblue (Graceling Realm, #… │\n",
       "└─────────────────────────────────┴─────────────────────────────────┘"
      ]
     },
     "execution_count": 17,
     "metadata": {},
     "output_type": "execute_result"
    }
   ],
   "source": [
    "# Мерджим все описания книг юзера вместе\n",
    "user_profiles_df = (\n",
    "    read_books_with_desc\n",
    "    .group_by(\"user_id\")\n",
    "    .agg(\n",
    "        \n",
    "        pl.col(\"title_description\").implode().list.join(\" \").alias(\"user_profile_description\")\n",
    "    )\n",
    ")\n",
    "\n",
    "\n",
    "user_profiles_df.head(3)"
   ]
  },
  {
   "cell_type": "code",
   "execution_count": null,
   "id": "67aec310",
   "metadata": {},
   "outputs": [],
   "source": [
    "from langchain.prompts import PromptTemplate\n",
    "\n",
    "prompt = PromptTemplate(input_variables=['readed_books'], template='Hi provide detailed user portrait based on books that user have read {readed_books} provide only user portrait, nothing else')\n",
    "\n",
    "chain = prompt | GPT_OSS \n"
   ]
  },
  {
   "cell_type": "code",
   "execution_count": null,
   "id": "bbd56b3c",
   "metadata": {},
   "outputs": [
    {
     "name": "stdout",
     "output_type": "stream",
     "text": [
      "\n",
      "--- Generating portrait for 39459fe8f1b597292ff2ef9a45b7a4b5 ---\n",
      "\n",
      "--- Generating portrait for ea2a3deed21e9d82e15050d1172feb99 ---\n",
      "\n",
      "--- Generating portrait for e2ac8bac5212f355aa3a5c3f2b594c7a ---\n"
     ]
    }
   ],
   "source": [
    "sample = user_profiles_df.head(3)\n",
    "\n",
    "gpt_oss_user_portraits = []\n",
    "\n",
    "for row in sample.iter_rows(named=True):\n",
    "    user_id = row['user_id']\n",
    "    readed_books_summary = row['user_profile_description']\n",
    "    \n",
    "    print(f\"\\n--- Generating portrait for {user_id} ---\")\n",
    "    \n",
    "    output = chain.invoke({\"readed_books\": readed_books_summary})\n",
    "    user_portrait = output.content\n",
    "    \n",
    "    \n",
    "    gpt_oss_user_portraits.append({\"user_id\": user_id, \"portrait\": user_portrait})"
   ]
  },
  {
   "cell_type": "code",
   "execution_count": 31,
   "id": "d32368ca",
   "metadata": {},
   "outputs": [
    {
     "data": {
      "text/html": [
       "<div><style>\n",
       ".dataframe > thead > tr,\n",
       ".dataframe > tbody > tr {\n",
       "  text-align: right;\n",
       "  white-space: pre-wrap;\n",
       "}\n",
       "</style>\n",
       "<small>shape: (3, 2)</small><table border=\"1\" class=\"dataframe\"><thead><tr><th>user_id</th><th>portrait</th></tr><tr><td>str</td><td>str</td></tr></thead><tbody><tr><td>&quot;39459fe8f1b597292ff2ef9a45b7a4…</td><td>&quot;**User Portrait – “The YA‑Lit …</td></tr><tr><td>&quot;ea2a3deed21e9d82e15050d1172feb…</td><td>&quot;**User Portrait – “The Curious…</td></tr><tr><td>&quot;e2ac8bac5212f355aa3a5c3f2b594c…</td><td>&quot;**User Portrait – “The Empathe…</td></tr></tbody></table></div>"
      ],
      "text/plain": [
       "shape: (3, 2)\n",
       "┌─────────────────────────────────┬─────────────────────────────────┐\n",
       "│ user_id                         ┆ portrait                        │\n",
       "│ ---                             ┆ ---                             │\n",
       "│ str                             ┆ str                             │\n",
       "╞═════════════════════════════════╪═════════════════════════════════╡\n",
       "│ 39459fe8f1b597292ff2ef9a45b7a4… ┆ **User Portrait – “The YA‑Lit … │\n",
       "│ ea2a3deed21e9d82e15050d1172feb… ┆ **User Portrait – “The Curious… │\n",
       "│ e2ac8bac5212f355aa3a5c3f2b594c… ┆ **User Portrait – “The Empathe… │\n",
       "└─────────────────────────────────┴─────────────────────────────────┘"
      ]
     },
     "execution_count": 31,
     "metadata": {},
     "output_type": "execute_result"
    }
   ],
   "source": [
    "us_portrait_gpt = pl.DataFrame(gpt_oss_user_portraits)\n",
    "\n",
    "us_portrait_gpt"
   ]
  },
  {
   "cell_type": "code",
   "execution_count": null,
   "id": "c81fd5a5",
   "metadata": {},
   "outputs": [
    {
     "data": {
      "text/html": [
       "<div><style>\n",
       ".dataframe > thead > tr,\n",
       ".dataframe > tbody > tr {\n",
       "  text-align: right;\n",
       "  white-space: pre-wrap;\n",
       "}\n",
       "</style>\n",
       "<small>shape: (3, 3)</small><table border=\"1\" class=\"dataframe\"><thead><tr><th>user_id</th><th>user_profile_description</th><th>portrait</th></tr><tr><td>str</td><td>str</td><td>str</td></tr></thead><tbody><tr><td>&quot;39459fe8f1b597292ff2ef9a45b7a4…</td><td>&quot;The Fault in Our StarsDespite …</td><td>&quot;**User Portrait – “The YA‑Lit …</td></tr><tr><td>&quot;ea2a3deed21e9d82e15050d1172feb…</td><td>&quot;Holes (Holes, #1)(Librarian&#x27;s …</td><td>&quot;**User Portrait – “The Curious…</td></tr><tr><td>&quot;e2ac8bac5212f355aa3a5c3f2b594c…</td><td>&quot;Stargirl (Stargirl, #1)A celeb…</td><td>&quot;**User Portrait – “The Empathe…</td></tr></tbody></table></div>"
      ],
      "text/plain": [
       "shape: (3, 3)\n",
       "┌────────────────────────────────┬────────────────────────────────┬────────────────────────────────┐\n",
       "│ user_id                        ┆ user_profile_description       ┆ portrait                       │\n",
       "│ ---                            ┆ ---                            ┆ ---                            │\n",
       "│ str                            ┆ str                            ┆ str                            │\n",
       "╞════════════════════════════════╪════════════════════════════════╪════════════════════════════════╡\n",
       "│ 39459fe8f1b597292ff2ef9a45b7a4 ┆ The Fault in Our StarsDespite  ┆ **User Portrait – “The YA‑Lit  │\n",
       "│ …                              ┆ …                              ┆ …                              │\n",
       "│ ea2a3deed21e9d82e15050d1172feb ┆ Holes (Holes, #1)(Librarian's  ┆ **User Portrait – “The         │\n",
       "│ …                              ┆ …                              ┆ Curious…                       │\n",
       "│ e2ac8bac5212f355aa3a5c3f2b594c ┆ Stargirl (Stargirl, #1)A       ┆ **User Portrait – “The         │\n",
       "│ …                              ┆ celeb…                         ┆ Empathe…                       │\n",
       "└────────────────────────────────┴────────────────────────────────┴────────────────────────────────┘"
      ]
     },
     "execution_count": 32,
     "metadata": {},
     "output_type": "execute_result"
    }
   ],
   "source": [
    "sample = sample.join(\n",
    "        us_portrait_gpt.select([\"user_id\", \"portrait\"]), \n",
    "        on=\"user_id\", \n",
    "        how=\"left\"\n",
    "    )\n",
    "sample"
   ]
  },
  {
   "cell_type": "code",
   "execution_count": 33,
   "id": "f67e7880",
   "metadata": {},
   "outputs": [],
   "source": [
    "from langchain.prompts import PromptTemplate\n",
    "\n",
    "prompt_yagpt = PromptTemplate(input_variables=['readed_books'], template='Hi provide detailed user portrait based on books that user have read {readed_books} provide only user portrait, nothing else')\n",
    "\n",
    "chain_yagpt = prompt_yagpt | YAGPT_5_PRO\n"
   ]
  },
  {
   "cell_type": "code",
   "execution_count": null,
   "id": "b6fde2c7",
   "metadata": {},
   "outputs": [
    {
     "name": "stdout",
     "output_type": "stream",
     "text": [
      "\n",
      "--- Generating portrait for 39459fe8f1b597292ff2ef9a45b7a4b5 ---\n",
      "\n",
      "--- Generating portrait for ea2a3deed21e9d82e15050d1172feb99 ---\n",
      "\n",
      "--- Generating portrait for e2ac8bac5212f355aa3a5c3f2b594c7a ---\n"
     ]
    }
   ],
   "source": [
    "\n",
    "yagpt_user_portraits = []\n",
    "\n",
    "for row in sample.iter_rows(named=True):\n",
    "    user_id = row['user_id']\n",
    "    readed_books_summary = row['user_profile_description']\n",
    "    \n",
    "    print(f\"\\n--- Generating portrait for {user_id} ---\")\n",
    "    \n",
    "    # This is where you would call your LLM\n",
    "    output = chain_yagpt.invoke({\"readed_books\": readed_books_summary})\n",
    "    user_portrait = output.content\n",
    "    \n",
    "    \n",
    "    yagpt_user_portraits.append({\"user_id\": user_id, \"portrait_ya\": user_portrait})"
   ]
  },
  {
   "cell_type": "code",
   "execution_count": 35,
   "id": "9ab39c5a",
   "metadata": {},
   "outputs": [
    {
     "data": {
      "text/html": [
       "<div><style>\n",
       ".dataframe > thead > tr,\n",
       ".dataframe > tbody > tr {\n",
       "  text-align: right;\n",
       "  white-space: pre-wrap;\n",
       "}\n",
       "</style>\n",
       "<small>shape: (3, 2)</small><table border=\"1\" class=\"dataframe\"><thead><tr><th>user_id</th><th>portrait_ya</th></tr><tr><td>str</td><td>str</td></tr></thead><tbody><tr><td>&quot;39459fe8f1b597292ff2ef9a45b7a4…</td><td>&quot;В интернете есть много сайтов …</td></tr><tr><td>&quot;ea2a3deed21e9d82e15050d1172feb…</td><td>&quot;**User Portrait:**\n",
       "\n",
       "**Age and …</td></tr><tr><td>&quot;e2ac8bac5212f355aa3a5c3f2b594c…</td><td>&quot;**User Portrait**\n",
       "\n",
       "**Age and L…</td></tr></tbody></table></div>"
      ],
      "text/plain": [
       "shape: (3, 2)\n",
       "┌─────────────────────────────────┬─────────────────────────────────┐\n",
       "│ user_id                         ┆ portrait_ya                     │\n",
       "│ ---                             ┆ ---                             │\n",
       "│ str                             ┆ str                             │\n",
       "╞═════════════════════════════════╪═════════════════════════════════╡\n",
       "│ 39459fe8f1b597292ff2ef9a45b7a4… ┆ В интернете есть много сайтов … │\n",
       "│ ea2a3deed21e9d82e15050d1172feb… ┆ **User Portrait:**              │\n",
       "│                                 ┆                                 │\n",
       "│                                 ┆ **Age and …                     │\n",
       "│ e2ac8bac5212f355aa3a5c3f2b594c… ┆ **User Portrait**               │\n",
       "│                                 ┆                                 │\n",
       "│                                 ┆ **Age and L…                    │\n",
       "└─────────────────────────────────┴─────────────────────────────────┘"
      ]
     },
     "execution_count": 35,
     "metadata": {},
     "output_type": "execute_result"
    }
   ],
   "source": [
    "us_portrait_yagpt = pl.DataFrame(yagpt_user_portraits)\n",
    "\n",
    "us_portrait_yagpt"
   ]
  },
  {
   "cell_type": "code",
   "execution_count": null,
   "id": "d1f95cf6",
   "metadata": {},
   "outputs": [
    {
     "data": {
      "text/html": [
       "<div><style>\n",
       ".dataframe > thead > tr,\n",
       ".dataframe > tbody > tr {\n",
       "  text-align: right;\n",
       "  white-space: pre-wrap;\n",
       "}\n",
       "</style>\n",
       "<small>shape: (3, 4)</small><table border=\"1\" class=\"dataframe\"><thead><tr><th>user_id</th><th>user_profile_description</th><th>portrait</th><th>portrait_ya</th></tr><tr><td>str</td><td>str</td><td>str</td><td>str</td></tr></thead><tbody><tr><td>&quot;39459fe8f1b597292ff2ef9a45b7a4…</td><td>&quot;The Fault in Our StarsDespite …</td><td>&quot;**User Portrait – “The YA‑Lit …</td><td>&quot;В интернете есть много сайтов …</td></tr><tr><td>&quot;ea2a3deed21e9d82e15050d1172feb…</td><td>&quot;Holes (Holes, #1)(Librarian&#x27;s …</td><td>&quot;**User Portrait – “The Curious…</td><td>&quot;**User Portrait:**\n",
       "\n",
       "**Age and …</td></tr><tr><td>&quot;e2ac8bac5212f355aa3a5c3f2b594c…</td><td>&quot;Stargirl (Stargirl, #1)A celeb…</td><td>&quot;**User Portrait – “The Empathe…</td><td>&quot;**User Portrait**\n",
       "\n",
       "**Age and L…</td></tr></tbody></table></div>"
      ],
      "text/plain": [
       "shape: (3, 4)\n",
       "┌──────────────────────────┬─────────────────────────┬───────────────────┬─────────────────────────┐\n",
       "│ user_id                  ┆ user_profile_descriptio ┆ portrait          ┆ portrait_ya             │\n",
       "│ ---                      ┆ n                       ┆ ---               ┆ ---                     │\n",
       "│ str                      ┆ ---                     ┆ str               ┆ str                     │\n",
       "│                          ┆ str                     ┆                   ┆                         │\n",
       "╞══════════════════════════╪═════════════════════════╪═══════════════════╪═════════════════════════╡\n",
       "│ 39459fe8f1b597292ff2ef9a ┆ The Fault in Our        ┆ **User Portrait – ┆ В интернете есть много  │\n",
       "│ 45b7a4…                  ┆ StarsDespite …          ┆ “The YA‑Lit …     ┆ сайтов …                │\n",
       "│ ea2a3deed21e9d82e15050d1 ┆ Holes (Holes,           ┆ **User Portrait – ┆ **User Portrait:**      │\n",
       "│ 172feb…                  ┆ #1)(Librarian's …       ┆ “The Curious…     ┆                         │\n",
       "│                          ┆                         ┆                   ┆ **Age and …             │\n",
       "│ e2ac8bac5212f355aa3a5c3f ┆ Stargirl (Stargirl,     ┆ **User Portrait – ┆ **User Portrait**       │\n",
       "│ 2b594c…                  ┆ #1)A celeb…             ┆ “The Empathe…     ┆                         │\n",
       "│                          ┆                         ┆                   ┆ **Age and L…            │\n",
       "└──────────────────────────┴─────────────────────────┴───────────────────┴─────────────────────────┘"
      ]
     },
     "execution_count": 37,
     "metadata": {},
     "output_type": "execute_result"
    }
   ],
   "source": [
    "sample = sample.join(\n",
    "        us_portrait_yagpt.select([\"user_id\", \"portrait_ya\"]), \n",
    "        on=\"user_id\", \n",
    "        how=\"left\"\n",
    "    )\n",
    "sample"
   ]
  },
  {
   "cell_type": "markdown",
   "id": "0eb7ad18",
   "metadata": {},
   "source": [
    "**Выводы** Генерация портрета на 3х юзеров на GPT OSS заняла 52 секунды, нало параллелить \n",
    "\n",
    "YandexGPT PRO справляется с этой задачей хуже, в для 1го описания ответ как видно поломался, также у юзеров с большой активностью огромный список книг с большим описанием, которые не влезают в контекст"
   ]
  }
 ],
 "metadata": {
  "kernelspec": {
   "display_name": "base_venv",
   "language": "python",
   "name": "python3"
  },
  "language_info": {
   "codemirror_mode": {
    "name": "ipython",
    "version": 3
   },
   "file_extension": ".py",
   "mimetype": "text/x-python",
   "name": "python",
   "nbconvert_exporter": "python",
   "pygments_lexer": "ipython3",
   "version": "3.10.18"
  }
 },
 "nbformat": 4,
 "nbformat_minor": 5
}
